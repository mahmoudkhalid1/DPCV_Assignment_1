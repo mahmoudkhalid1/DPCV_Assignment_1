{
  "cells": [
    {
      "cell_type": "code",
      "execution_count": null,
      "metadata": {
        "id": "wBCGk8YVpNhU"
      },
      "outputs": [],
      "source": [
        "# importing required libraries of opencv\n",
        "import cv2\n",
        "from PIL import Image \n",
        "# importing library for plotting\n",
        "from matplotlib import pyplot as plt\n",
        "import numpy as np\n",
        "import pandas as pd\n",
        "import math\n",
        "from sklearn.metrics import  confusion_matrix\n"
      ]
    },
    {
      "cell_type": "code",
      "execution_count": null,
      "metadata": {
        "id": "mFe6iXYzpNhY"
      },
      "outputs": [],
      "source": [
        "#FROM TASK 4\n",
        "def QuantFunc(img,IQ):\n",
        "    for i in range(0,img.shape[0]):\n",
        "        for j in range(0,img.shape[1]):\n",
        "            value = (IQ* np.floor((img[i][j]/IQ)))\n",
        "            img[i][j]=value\n",
        "    return img"
      ]
    },
    {
      "cell_type": "code",
      "execution_count": null,
      "metadata": {
        "id": "Go6136rUpNhZ"
      },
      "outputs": [],
      "source": [
        "class BayesModel:\n",
        "  def __init__(self,dta,gt):\n",
        "    self.gt=gt\n",
        "    self.dta=dta\n",
        "    self.gt_shape=self.gt.shape\n",
        "    self.dta_shape=self.dta.shape\n",
        "    self.gt=self.gt.flatten()\n",
        "    self.count0=0\n",
        "    self.count1=0\n",
        "    self.R=np.zeros((16,2))\n",
        "    self.G=np.zeros((16,2))\n",
        "    self.B=np.zeros((16,2))\n",
        "    self.vector_size=self.gt_shape[0]*self.gt_shape[1]\n",
        "    self.training_set_indices=np.array(list(range(0,self.vector_size)))\n",
        "    self.training_set_indices=np.random.choice(self.training_set_indices,math.floor(self.vector_size*0.8))\n",
        "    self.testing_set_indices=[]\n",
        "    self.labels = np.ones(self.vector_size)*-1\n",
        "    for i in range(self.vector_size):\n",
        "      if not(i in self.training_set_indices):\n",
        "        self.testing_set_indices.append(i)\n",
        "    self.testing_set_indices=np.array(self.testing_set_indices)\n",
        "  def trainingData(self):\n",
        "    for i in self.training_set_indices:\n",
        "      if self.gt[i]==0:\n",
        "        self.count0+=1\n",
        "        self.R[int(self.dta[i,0]/16),0]+=1\n",
        "        self.G[int(self.dta[i,0]/16),0]+=1\n",
        "        self.B[int(self.dta[i,0]/16),0]+=1\n",
        "      else:\n",
        "        self.count1+=1\n",
        "        self.R[int(self.dta[i,0]/16),1]+=1\n",
        "        self.G[int(self.dta[i,0]/16),1]+=1\n",
        "        self.B[int(self.dta[i,0]/16),1]+=1\n",
        "  def testingData(self):\n",
        "    binary_img=self.gt\n",
        "    for i in self.testing_set_indices:\n",
        "      pixel = self.dta[i]\n",
        "      pixel_0=(self.R[int(pixel[0]/16),0]/self.count0)*(self.G[int(pixel[1]/16),0]/self.count0)*(self.B[int(pixel[2]/16),0]/self.count0)\n",
        "      pixel_1=(self.R[int(pixel[0]/16),1]/self.count1)*(self.G[int(pixel[1]/16),1]/self.count1)*(self.B[int(pixel[2]/16),1]/self.count1)\n",
        "      if pixel_0 > pixel_1:\n",
        "        binary_img[i]=0\n",
        "      else:\n",
        "        binary_img[i]=255\n",
        "    return binary_img\n"
      ]
    },
    {
      "cell_type": "code",
      "execution_count": null,
      "metadata": {
        "id": "6DOkY9-hpNhZ"
      },
      "outputs": [],
      "source": [
        "def Calculate_ConfMatrix(gt,lbl):\n",
        "    gt=gt.flatten()\n",
        "    lbl=lbl.reshape(gt_shape).flatten()\n",
        "    Truezero=0\n",
        "    True255s=0\n",
        "    Falsezero=0\n",
        "    False255s=0\n",
        "    for i in range(len(gt)):\n",
        "        if(gt[i]==0)& (lbl[i]==0):\n",
        "            Truezero+=1\n",
        "        if(gt[i]==255)& (lbl[i]==255):\n",
        "            True255s+=1\n",
        "        if(gt[i]==255)& (lbl[i]==0):\n",
        "            False255s+=1\n",
        "        if(gt[i]==0)& (lbl[i]==255):\n",
        "            Falsezero+=1\n",
        "    confusion_matrix=np.matrix([[Truezero,Falsezero ], [False255s, True255s]])\n",
        "    plt.matshow(confusion_matrix,cmap=\"Blues\")\n",
        "    for i in range(0,confusion_matrix.shape[0]):\n",
        "        for j in range(0,confusion_matrix.shape[1]):\n",
        "            plt.annotate(confusion_matrix[i,j],(j,i))\n",
        "\n",
        "\n",
        "\n",
        "\n",
        "    \n",
        "    \n",
        "\n",
        "    "
      ]
    },
    {
      "cell_type": "code",
      "execution_count": null,
      "metadata": {
        "colab": {
          "base_uri": "https://localhost:8080/",
          "height": 433
        },
        "id": "m4udStCBpNha",
        "outputId": "f5a6f14e-9f82-4844-ca86-7922d481d7a9"
      },
      "outputs": [
        {
          "output_type": "stream",
          "name": "stdout",
          "text": [
            "[[255 255 255 ... 255 255 255]\n",
            " [255 255 255 ... 255 255 255]\n",
            " [255 255 255 ... 255 255 255]\n",
            " ...\n",
            " [  0   0   0 ... 255 255 255]\n",
            " [  0   0   0 ... 255 255 255]\n",
            " [  0   0   0 ... 255 255   0]]\n",
            "8\n"
          ]
        },
        {
          "output_type": "execute_result",
          "data": {
            "text/plain": [
              "<matplotlib.image.AxesImage at 0x7f297a15f950>"
            ]
          },
          "metadata": {},
          "execution_count": 21
        },
        {
          "output_type": "display_data",
          "data": {
            "text/plain": [
              "<Figure size 432x288 with 1 Axes>"
            ],
            "image/png": "[encoded data removed]"
          },
          "metadata": {
            "needs_background": "light"
          }
        }
      ],
      "source": [
        "#reading the image \n",
        "img = cv2.imread('dataset2Color.jpg')\n",
        "gt = np.array(Image.open('dataset2Gray.jpg'))\n",
        "\n",
        "#Qunatizing Function Using The quantizied \n",
        "original_shape=img.shape\n",
        "gt_shape=gt.shape\n",
        "img=QuantFunc(img,16).astype(int)\n",
        "#Reshaping the img\n",
        "img=img.reshape(img.shape[0]*img.shape[1],img.shape[2])\n",
        "img\n",
        "# Applying the Otsu Threshold\n",
        "ret, thresh = cv2.threshold(gt, 0, 255,cv2.THRESH_BINARY+cv2.THRESH_OTSU)\n",
        "print(thresh)\n",
        "print(cv2.THRESH_BINARY + cv2.THRESH_OTSU)\n",
        "\n",
        "#Applying Naive Bayes Model \n",
        "nb=BayesModel(img,thresh)\n",
        "nb.trainingData()\n",
        "pred_binary_img=nb.testingData()\n",
        "#plt.imshow(pred_binary_img.reshape(gt_shape),cmap='gray')\n",
        "\n",
        "plt.imshow(thresh,cmap='gray')"
      ]
    },
    {
      "cell_type": "code",
      "execution_count": null,
      "metadata": {
        "id": "yGeNt7RHpNhb"
      },
      "outputs": [],
      "source": [
        "# unique, counts = np.unique(thresh.flatten(), return_counts=True)\n",
        "# dict(zip(unique, counts))"
      ]
    },
    {
      "cell_type": "code",
      "execution_count": null,
      "metadata": {
        "id": "FSnbiKfApNhc"
      },
      "outputs": [],
      "source": [
        "# unique, counts = np.unique(pred_binary_img.reshape(gt_shape).flatten(), return_counts=True)\n",
        "# dict(zip(unique, counts))"
      ]
    },
    {
      "cell_type": "code",
      "execution_count": null,
      "metadata": {
        "id": "DjvJDZRdpNhc",
        "outputId": "5d2840c9-b910-41cb-e87f-e01a1d60012d",
        "colab": {
          "base_uri": "https://localhost:8080/",
          "height": 275
        }
      },
      "outputs": [
        {
          "output_type": "display_data",
          "data": {
            "text/plain": [
              "<Figure size 288x288 with 1 Axes>"
            ],
            "image/png": "[encoded data removed]"
          },
          "metadata": {
            "needs_background": "light"
          }
        }
      ],
      "source": [
        "Calculate_ConfMatrix(thresh,pred_binary_img)"
      ]
    },
    {
      "cell_type": "code",
      "execution_count": null,
      "metadata": {
        "id": "PLhGl1eNpNhd"
      },
      "outputs": [],
      "source": [
        ""
      ]
    }
  ],
  "metadata": {
    "interpreter": {
      "hash": "b3ba2566441a7c06988d0923437866b63cedc61552a5af99d1f4fb67d367b25f"
    },
    "kernelspec": {
      "display_name": "Python 3.8.8 ('base')",
      "language": "python",
      "name": "python3"
    },
    "language_info": {
      "codemirror_mode": {
        "name": "ipython",
        "version": 3
      },
      "file_extension": ".py",
      "mimetype": "text/x-python",
      "name": "python",
      "nbconvert_exporter": "python",
      "pygments_lexer": "ipython3",
      "version": "3.8.8"
    },
    "orig_nbformat": 4,
    "colab": {
      "name": "task5.ipynb",
      "provenance": [],
      "collapsed_sections": [],
      "toc_visible": true
    }
  },
  "nbformat": 4,
  "nbformat_minor": 0
}