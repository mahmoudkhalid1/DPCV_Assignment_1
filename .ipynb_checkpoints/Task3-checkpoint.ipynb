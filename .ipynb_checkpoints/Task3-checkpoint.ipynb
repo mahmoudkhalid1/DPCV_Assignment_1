{
 "cells": [
  {
   "cell_type": "code",
   "execution_count": 1,
   "id": "36260c8f",
   "metadata": {},
   "outputs": [],
   "source": [
    "import numpy as np\n",
    "import math\n",
    "from PIL import Image, ImageOps\n",
    "import matplotlib.pyplot as plt\n",
    "%matplotlib inline"
   ]
  },
  {
   "cell_type": "code",
   "execution_count": 2,
   "id": "fae49dc6",
   "metadata": {},
   "outputs": [],
   "source": [
    "dataset3_0 = Image.open('OriginalImage_DS3.png')\n",
    "dataset3_0 = ImageOps.grayscale(dataset3_0)\n",
    "dataset3_0 = (np.array(dataset3_0).reshape(1,-1))\n",
    "dataset3_1 = Image.open('LightNoise_DS3.png')\n",
    "dataset3_1 = ImageOps.grayscale(dataset3_1)\n",
    "dataset3_1 = (np.array(dataset3_1).reshape(1,-1))\n",
    "dataset3_2 = Image.open('MeduimNoise_DS3.png')\n",
    "dataset3_2 = ImageOps.grayscale(dataset3_2)\n",
    "dataset3_2 = (np.array(dataset3_2).reshape(1,-1))\n",
    "dataset3_3 = Image.open('HighNoise_DS3.png')\n",
    "dataset3_3 = ImageOps.grayscale(dataset3_3)\n",
    "dataset3_3 = (np.array(dataset3_3).reshape(1,-1))"
   ]
  },
  {
   "cell_type": "code",
   "execution_count": 3,
   "id": "00dac7ff",
   "metadata": {},
   "outputs": [],
   "source": [
    "def em(sample, classesNum, weights, initialParams, e):\n",
    "    means = np.zeros(classesNum)\n",
    "    for i in range(0, classesNum):\n",
    "        means[i] = initialParams[i][0]\n",
    "    sigmas = np.zeros(classesNum)\n",
    "    for i in range(0, classesNum):\n",
    "        sigmas[i] = initialParams[i][1]\n",
    "    params = np.array(initialParams)\n",
    "    newParams = np.zeros(params.shape)\n",
    "    #again is the stopping condition\n",
    "    again = True\n",
    "    iterationCount = 0\n",
    "    classification_matrix = np.zeros(sample.size)\n",
    "    z = np.zeros([sample.size,classesNum])\n",
    "    #the original image but the elements represent the class of each pixel\n",
    "    classified_sample = np.zeros(sample.size)\n",
    "    \n",
    "    confusion_matrix = [[0,0,0,0],[0,0,0,0],[0,0,0,0],[0,0,0,0]]\n",
    "    \n",
    "    black = 0 #given class 0\n",
    "    gray = 0  #given class 1\n",
    "    lightGray = 0 #given class 2\n",
    "    white = 0  #given class 3\n",
    "    for x in range (0, sample.size):\n",
    "        if (sample[0][x] < 10):\n",
    "            classified_sample[x] = 0\n",
    "            black += 1\n",
    "        elif (sample[0][x] < 50):\n",
    "            classified_sample[x] = 1\n",
    "            gray += 1\n",
    "        elif (sample[0][x] < 100):\n",
    "            classified_sample[x] = 2\n",
    "            lightGray += 1\n",
    "        elif (sample[0][x] <= 255):\n",
    "            classified_sample[x] = 3\n",
    "            white += 1\n",
    "    \n",
    "    while (again == True):\n",
    "        #print(iterationCount)\n",
    "        iterationCount += 1\n",
    "        i = 0\n",
    "        g = np.zeros((classesNum, sample.size))\n",
    "        #gaussian calculation\n",
    "        for i in range(classesNum):\n",
    "            g[i] = 1/np.sqrt(2*np.pi*params[i][1]**2)*np.e**(-(sample[0]-params[i][0])**2/params[i][1]**2)\n",
    "        g = g.T\n",
    "        \n",
    "        z1 = g * weights\n",
    "        z2 = np.sum(z1, axis = 1)\n",
    "        z = np.divide(z1.T,z2).T \n",
    "        z= np.nan_to_num(z) \n",
    "        u = np.sum(np.multiply(z.T,sample[0]).T, axis=0)/np.sum(z, axis=0)\n",
    "        s = np.sqrt(np.sum(z*(np.array([(sample[0]-u[i])**2 for i in range(classesNum)])).T, axis=0)/np.sum(z, axis=0))\n",
    "        p = np.sum(z, axis=0)/sample.size\n",
    "        if np.max(np.abs(u-means))< e and np.max(np.abs(s-sigmas))< e and np.max(np.abs(p-weights))< e :\n",
    "            again = False\n",
    "        means = u\n",
    "        sigmas = s\n",
    "        weights = p\n",
    "        c1 = 0\n",
    "        c2 = 0\n",
    "        c3 = 0\n",
    "        c4 = 0\n",
    "        n = 0\n",
    "        for n in range(0, sample.size):\n",
    "            maxProb = max(z[n])\n",
    "            if (maxProb == z[n][0]):\n",
    "                classification_matrix[n] = 0\n",
    "                c1 +=1\n",
    "            elif (maxProb == z[n][1]):\n",
    "                classification_matrix[n] = 1\n",
    "                c2 +=1\n",
    "            elif (maxProb == z[n][2]):\n",
    "                classification_matrix[n] = 2\n",
    "                c3+=1\n",
    "            elif (maxProb == z[n][3]):\n",
    "                classification_matrix[n] = 3\n",
    "                c4+=1\n",
    "    for i in range (0, sample.size):\n",
    "        if (classification_matrix[i] == 0):\n",
    "            if (classified_sample[i] == 0):\n",
    "                #correct black\n",
    "                confusion_matrix[0][0] += 1\n",
    "            elif(classified_sample[i] == 1):\n",
    "                #misclassified as black while it is actually gray\n",
    "                confusion_matrix[1][0] += 1\n",
    "            elif(classified_sample[i] == 2):\n",
    "                #misclassified as black while it is actually light gray\n",
    "                confusion_matrix[2][0] += 1\n",
    "            elif(classified_sample[i] == 3):\n",
    "                #misclassified as black while it is actually white\n",
    "                confusion_matrix[3][0] += 1\n",
    "        elif (classification_matrix[i] == 1):\n",
    "            if (classified_sample[i] == 0):\n",
    "                #misclassified as gray while it is actually black\n",
    "                confusion_matrix[0][1] += 1\n",
    "            elif(classified_sample[i] == 1):\n",
    "                #correct\n",
    "                confusion_matrix[1][1] += 1\n",
    "            elif(classified_sample[i] == 2):\n",
    "                #misclassified as gray while it is actually light gray\n",
    "                confusion_matrix[2][1] += 1\n",
    "            elif(classified_sample[i] == 3):\n",
    "                #misclassified as gray while it is actually white\n",
    "                confusion_matrix[3][1] += 1\n",
    "        elif (classification_matrix[i] == 2):\n",
    "            if (classified_sample[i] == 0):\n",
    "                #misclassified as light gray while it is actually black\n",
    "                confusion_matrix[0][2] += 1\n",
    "            elif(classified_sample[i] == 1):\n",
    "                #misclassified as light gray while it is actually gray\n",
    "                confusion_matrix[1][2] += 1\n",
    "            elif(classified_sample[i] == 2):\n",
    "                #correct\n",
    "                confusion_matrix[2][2] += 1\n",
    "            elif(classified_sample[i] == 3):\n",
    "                #misclassified as light gray while it is actually white\n",
    "                confusion_matrix[3][2] += 1\n",
    "        elif (classification_matrix[i] == 3):\n",
    "            if (classified_sample[i] == 0):\n",
    "                #misclassified as white while it is actually black\n",
    "                confusion_matrix[0][3] += 1\n",
    "            elif(classified_sample[i] == 1):\n",
    "                #misclassified as white while it is actually gray\n",
    "                confusion_matrix[1][3] += 1\n",
    "            elif(classified_sample[i] == 2):\n",
    "                #isclassified as white while it is actually light gray\n",
    "                confusion_matrix[2][3] += 1\n",
    "            elif(classified_sample[i] == 3):\n",
    "                #correct\n",
    "                confusion_matrix[3][3] += 1\n",
    "    return classification_matrix, newParams, iterationCount, confusion_matrix"
   ]
  },
  {
   "cell_type": "code",
   "execution_count": 9,
   "id": "07fbccf5",
   "metadata": {},
   "outputs": [
    {
     "name": "stdout",
     "output_type": "stream",
     "text": [
      "[3. 3. 3. ... 2. 2. 2.]\n",
      "3\n",
      "[[65536, 0, 0, 0], [0, 0, 0, 65536], [0, 65536, 0, 0], [0, 0, 65536, 0]]\n"
     ]
    }
   ],
   "source": [
    "classification_matrix, newParams, iterationCount, confusion_matrix = em(dataset3_0, 4,[1/1,1/2,1/3,1/4], \n",
    "                                                      [[25,1], [90, 1], [160,1], [240,1]], 0.01)\n",
    "print(classification_matrix)\n",
    "print(iterationCount)\n",
    "print(confusion_matrix)"
   ]
  },
  {
   "cell_type": "code",
   "execution_count": 10,
   "id": "d50c0257",
   "metadata": {},
   "outputs": [
    {
     "name": "stdout",
     "output_type": "stream",
     "text": [
      "[2. 2. 2. ... 1. 1. 1.]\n",
      "3\n",
      "[[65780, 0, 0, 0], [0, 0, 65437, 0], [0, 65445, 0, 0], [0, 65457, 25, 0]]\n"
     ]
    }
   ],
   "source": [
    "classification_matrix, newParams, iterationCount, confusion_matrix = em(dataset3_1, 4,[1/1,1/2,1/3,1/4], \n",
    "                                                      [[25,1], [90, 1], [160,1], [240,1]], 0.01)\n",
    "print(classification_matrix)\n",
    "print(iterationCount)\n",
    "print(confusion_matrix)"
   ]
  },
  {
   "cell_type": "code",
   "execution_count": 18,
   "id": "29dbdf53",
   "metadata": {},
   "outputs": [
    {
     "name": "stdout",
     "output_type": "stream",
     "text": [
      "[2. 2. 2. ... 1. 1. 1.]\n",
      "33\n",
      "[[66061, 0, 0, 0], [0, 0, 65180, 0], [0, 65164, 0, 0], [0, 65168, 571, 0]]\n"
     ]
    }
   ],
   "source": [
    "classification_matrix, newParams, iterationCount, confusion_matrix = em(dataset3_2, 4,[1/1,1/2,1/3,1/4], \n",
    "                                                      [[25,1], [90, 1], [160,1], [240,1]], 0.05)\n",
    "print(classification_matrix)\n",
    "print(iterationCount)\n",
    "print(confusion_matrix)"
   ]
  },
  {
   "cell_type": "code",
   "execution_count": 5,
   "id": "09809927",
   "metadata": {},
   "outputs": [
    {
     "name": "stdout",
     "output_type": "stream",
     "text": [
      "[2. 2. 2. ... 1. 1. 1.]\n",
      "44\n",
      "[[67302, 0, 0, 0], [0, 0, 63711, 0], [0, 63627, 0, 0], [0, 63678, 3826, 0]]\n"
     ]
    }
   ],
   "source": [
    "classification_matrix, newParams, iterationCount, confusion_matrix = em(dataset3_3, 4,[1/1,1/2,1/3,1/4], \n",
    "                                                      [[25,1], [90, 1], [160,1], [240,1]], 0.1)\n",
    "print(classification_matrix)\n",
    "print(iterationCount)\n",
    "print(confusion_matrix)"
   ]
  }
 ],
 "metadata": {
  "kernelspec": {
   "display_name": "Python 3 (ipykernel)",
   "language": "python",
   "name": "python3"
  },
  "language_info": {
   "codemirror_mode": {
    "name": "ipython",
    "version": 3
   },
   "file_extension": ".py",
   "mimetype": "text/x-python",
   "name": "python",
   "nbconvert_exporter": "python",
   "pygments_lexer": "ipython3",
   "version": "3.8.10"
  }
 },
 "nbformat": 4,
 "nbformat_minor": 5
}
